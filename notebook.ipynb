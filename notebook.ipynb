{
  "nbformat_minor": 0,
  "cells": [
    {
      "outputs": [],
      "metadata": {
        "_execution_state": "idle",
        "_cell_guid": "788c200d-4c0a-447c-b8cc-78ac3a3660ab",
        "_uuid": "43bec90d4c730c80630067c786d10d72dc9242a6",
        "collapsed": false
      },
      "execution_count": null,
      "source": "Predicting Income Groups of people using their demographic information",
      "cell_type": "markdown"
    },
    {
      "outputs": [
        {
          "output_type": "stream",
          "name": "stdout",
          "text": "sample_submission.csv\ntest.csv\ntrain.csv\n\n"
        }
      ],
      "metadata": {
        "_execution_state": "idle",
        "_cell_guid": "b88c692c-5049-49a8-b553-233fe00380fc",
        "_uuid": "139feac600f8b0d8cb087215c7904b740dda7b63",
        "trusted": false
      },
      "execution_count": 155,
      "source": "# This Python 3 environment comes with many helpful analytics libraries installed\n# It is defined by the kaggle/python docker image: https://github.com/kaggle/docker-python\n# For example, here's several helpful packages to load in \n\nimport numpy as np # linear algebra\nimport pandas as pd # data processing, CSV file I/O (e.g. pd.read_csv)\n\n# Input data files are available in the \"../input/\" directory.\n# For example, running this (by clicking run or pressing Shift+Enter) will list the files in the input directory\n\nfrom subprocess import check_output\nprint(check_output([\"ls\", \"../input\"]).decode(\"utf8\"))\n\n# Any results you write to the current directory are saved as output.",
      "cell_type": "code"
    },
    {
      "outputs": [
        {
          "output_type": "execute_result",
          "data": {
            "text/plain": "   ID  Age         Workclass  Education      Marital.Status  \\\n0   1   39         State-gov  Bachelors       Never-married   \n1   2   50  Self-emp-not-inc  Bachelors  Married-civ-spouse   \n2   3   38           Private    HS-grad            Divorced   \n3   4   53           Private       11th  Married-civ-spouse   \n4   5   28           Private  Bachelors  Married-civ-spouse   \n\n          Occupation   Relationship   Race     Sex  Hours.Per.Week  \\\n0       Adm-clerical  Not-in-family  White    Male              40   \n1    Exec-managerial        Husband  White    Male              13   \n2  Handlers-cleaners  Not-in-family  White    Male              40   \n3  Handlers-cleaners        Husband  Black    Male              40   \n4     Prof-specialty           Wife  Black  Female              40   \n\n  Native.Country Income.Group  \n0  United-States        <=50K  \n1  United-States        <=50K  \n2  United-States        <=50K  \n3  United-States        <=50K  \n4           Cuba        <=50K  ",
            "text/html": "<div>\n<style>\n    .dataframe thead tr:only-child th {\n        text-align: right;\n    }\n\n    .dataframe thead th {\n        text-align: left;\n    }\n\n    .dataframe tbody tr th {\n        vertical-align: top;\n    }\n</style>\n<table border=\"1\" class=\"dataframe\">\n  <thead>\n    <tr style=\"text-align: right;\">\n      <th></th>\n      <th>ID</th>\n      <th>Age</th>\n      <th>Workclass</th>\n      <th>Education</th>\n      <th>Marital.Status</th>\n      <th>Occupation</th>\n      <th>Relationship</th>\n      <th>Race</th>\n      <th>Sex</th>\n      <th>Hours.Per.Week</th>\n      <th>Native.Country</th>\n      <th>Income.Group</th>\n    </tr>\n  </thead>\n  <tbody>\n    <tr>\n      <th>0</th>\n      <td>1</td>\n      <td>39</td>\n      <td>State-gov</td>\n      <td>Bachelors</td>\n      <td>Never-married</td>\n      <td>Adm-clerical</td>\n      <td>Not-in-family</td>\n      <td>White</td>\n      <td>Male</td>\n      <td>40</td>\n      <td>United-States</td>\n      <td>&lt;=50K</td>\n    </tr>\n    <tr>\n      <th>1</th>\n      <td>2</td>\n      <td>50</td>\n      <td>Self-emp-not-inc</td>\n      <td>Bachelors</td>\n      <td>Married-civ-spouse</td>\n      <td>Exec-managerial</td>\n      <td>Husband</td>\n      <td>White</td>\n      <td>Male</td>\n      <td>13</td>\n      <td>United-States</td>\n      <td>&lt;=50K</td>\n    </tr>\n    <tr>\n      <th>2</th>\n      <td>3</td>\n      <td>38</td>\n      <td>Private</td>\n      <td>HS-grad</td>\n      <td>Divorced</td>\n      <td>Handlers-cleaners</td>\n      <td>Not-in-family</td>\n      <td>White</td>\n      <td>Male</td>\n      <td>40</td>\n      <td>United-States</td>\n      <td>&lt;=50K</td>\n    </tr>\n    <tr>\n      <th>3</th>\n      <td>4</td>\n      <td>53</td>\n      <td>Private</td>\n      <td>11th</td>\n      <td>Married-civ-spouse</td>\n      <td>Handlers-cleaners</td>\n      <td>Husband</td>\n      <td>Black</td>\n      <td>Male</td>\n      <td>40</td>\n      <td>United-States</td>\n      <td>&lt;=50K</td>\n    </tr>\n    <tr>\n      <th>4</th>\n      <td>5</td>\n      <td>28</td>\n      <td>Private</td>\n      <td>Bachelors</td>\n      <td>Married-civ-spouse</td>\n      <td>Prof-specialty</td>\n      <td>Wife</td>\n      <td>Black</td>\n      <td>Female</td>\n      <td>40</td>\n      <td>Cuba</td>\n      <td>&lt;=50K</td>\n    </tr>\n  </tbody>\n</table>\n</div>"
          },
          "metadata": {},
          "execution_count": 156
        }
      ],
      "metadata": {
        "_execution_state": "idle",
        "_cell_guid": "d7f2f392-606a-49d0-a71d-06f95e683799",
        "_uuid": "feab0889498bd0568435996ebba08f47baf072a7",
        "collapsed": false,
        "trusted": false
      },
      "execution_count": 156,
      "source": "# Loading datasets\ntrain = pd.read_csv('../input/train.csv')\ntest = pd.read_csv('../input/test.csv')\ntrain.head()\n",
      "cell_type": "code"
    },
    {
      "outputs": [],
      "metadata": {
        "_execution_state": "idle",
        "_cell_guid": "f9400795-7242-4095-b6c6-bbf76df13b80",
        "_uuid": "98f56766d98802abe70939a758c24d3dc41bb8cb",
        "collapsed": false
      },
      "execution_count": null,
      "source": "# Univariate Analysis",
      "cell_type": "markdown"
    },
    {
      "outputs": [
        {
          "output_type": "execute_result",
          "data": {
            "text/plain": "ID                 int64\nAge                int64\nWorkclass         object\nEducation         object\nMarital.Status    object\nOccupation        object\nRelationship      object\nRace              object\nSex               object\nHours.Per.Week     int64\nNative.Country    object\nIncome.Group      object\ndtype: object"
          },
          "metadata": {},
          "execution_count": 157
        }
      ],
      "metadata": {
        "_execution_state": "idle",
        "_cell_guid": "d2936aa2-ce69-4f80-9df3-b70147f956b2",
        "_uuid": "54aec676da415bbfd41556b0a1c77e3cd65fabf6",
        "collapsed": false,
        "trusted": false
      },
      "execution_count": 157,
      "source": "\n# Data types for each column\ntrain.dtypes",
      "cell_type": "code"
    },
    {
      "outputs": [],
      "metadata": {
        "_execution_state": "idle",
        "_cell_guid": "4eb996d8-e1ba-4a56-8db0-9cb493095078",
        "_uuid": "8a594b077117ae6f3c7d34273bbc18a5bac11972",
        "collapsed": false
      },
      "execution_count": null,
      "source": "### 1. Continuous Variables",
      "cell_type": "markdown"
    },
    {
      "outputs": [
        {
          "output_type": "execute_result",
          "data": {
            "text/plain": "                 ID           Age  Hours.Per.Week\ncount  32561.000000  32561.000000    32561.000000\nmean   16281.000000     38.581647       40.437456\nstd     9399.695394     13.640433       12.347429\nmin        1.000000     17.000000        1.000000\n25%     8141.000000     28.000000       40.000000\n50%    16281.000000     37.000000       40.000000\n75%    24421.000000     48.000000       45.000000\nmax    32561.000000     90.000000       99.000000",
            "text/html": "<div>\n<style>\n    .dataframe thead tr:only-child th {\n        text-align: right;\n    }\n\n    .dataframe thead th {\n        text-align: left;\n    }\n\n    .dataframe tbody tr th {\n        vertical-align: top;\n    }\n</style>\n<table border=\"1\" class=\"dataframe\">\n  <thead>\n    <tr style=\"text-align: right;\">\n      <th></th>\n      <th>ID</th>\n      <th>Age</th>\n      <th>Hours.Per.Week</th>\n    </tr>\n  </thead>\n  <tbody>\n    <tr>\n      <th>count</th>\n      <td>32561.000000</td>\n      <td>32561.000000</td>\n      <td>32561.000000</td>\n    </tr>\n    <tr>\n      <th>mean</th>\n      <td>16281.000000</td>\n      <td>38.581647</td>\n      <td>40.437456</td>\n    </tr>\n    <tr>\n      <th>std</th>\n      <td>9399.695394</td>\n      <td>13.640433</td>\n      <td>12.347429</td>\n    </tr>\n    <tr>\n      <th>min</th>\n      <td>1.000000</td>\n      <td>17.000000</td>\n      <td>1.000000</td>\n    </tr>\n    <tr>\n      <th>25%</th>\n      <td>8141.000000</td>\n      <td>28.000000</td>\n      <td>40.000000</td>\n    </tr>\n    <tr>\n      <th>50%</th>\n      <td>16281.000000</td>\n      <td>37.000000</td>\n      <td>40.000000</td>\n    </tr>\n    <tr>\n      <th>75%</th>\n      <td>24421.000000</td>\n      <td>48.000000</td>\n      <td>45.000000</td>\n    </tr>\n    <tr>\n      <th>max</th>\n      <td>32561.000000</td>\n      <td>90.000000</td>\n      <td>99.000000</td>\n    </tr>\n  </tbody>\n</table>\n</div>"
          },
          "metadata": {},
          "execution_count": 158
        }
      ],
      "metadata": {
        "_execution_state": "idle",
        "_cell_guid": "afe86ac1-7ceb-4505-8c62-805d9cb5c655",
        "_uuid": "dc8c998e26f6414ce1659bba5bd0d6c5b58a4c2b",
        "collapsed": false,
        "trusted": false
      },
      "execution_count": 158,
      "source": "train.describe()",
      "cell_type": "code"
    },
    {
      "outputs": [],
      "metadata": {
        "_execution_state": "idle",
        "_cell_guid": "28b578ff-3ce4-46f7-a24f-fdd0430da451",
        "_uuid": "081f7dd37f8054f67e1db39b14456823bff199bd",
        "collapsed": false
      },
      "execution_count": null,
      "source": "### 2. Categorical Variables",
      "cell_type": "markdown"
    },
    {
      "outputs": [
        {
          "output_type": "stream",
          "name": "stdout",
          "text": "Index(['Workclass', 'Education', 'Marital.Status', 'Occupation',\n       'Relationship', 'Race', 'Sex', 'Native.Country', 'Income.Group'],\n      dtype='object')\n"
        }
      ],
      "metadata": {
        "_execution_state": "idle",
        "_cell_guid": "64d0fdb1-f488-4fb0-8aac-614e15caaa9f",
        "_uuid": "2fac6508a6c8ed5e93c4c58de1a3d4adbe60ec83",
        "collapsed": false,
        "trusted": false
      },
      "execution_count": 159,
      "source": "categorical_variables = train.dtypes.loc[train.dtypes == 'object'].index\nprint (categorical_variables)",
      "cell_type": "code"
    },
    {
      "outputs": [
        {
          "output_type": "execute_result",
          "data": {
            "text/plain": "Workclass          9\nEducation         16\nMarital.Status     7\nOccupation        15\nRelationship       6\nRace               5\nSex                2\nNative.Country    42\nIncome.Group       2\ndtype: int64"
          },
          "metadata": {},
          "execution_count": 160
        }
      ],
      "metadata": {
        "_execution_state": "idle",
        "_cell_guid": "49196773-623f-41de-87d2-026ad939bd27",
        "_uuid": "e1257eac3dd72807515fff28ebf323e528b640e7",
        "collapsed": false,
        "trusted": false
      },
      "execution_count": 160,
      "source": "# Determine unique entities for each column\ntrain[categorical_variables].apply(lambda x: len(x.unique()))",
      "cell_type": "code"
    },
    {
      "outputs": [],
      "metadata": {
        "_execution_state": "idle",
        "_cell_guid": "8ab5256e-99c3-4d58-8473-f7aad6b777d0",
        "_uuid": "60fa4c45408396ecf35c71d53e14cd30af275eba",
        "collapsed": false
      },
      "execution_count": null,
      "source": "#### 2.1 Analyzing Race",
      "cell_type": "markdown"
    },
    {
      "outputs": [
        {
          "output_type": "execute_result",
          "data": {
            "text/plain": "White                 27816\nBlack                  3124\nAsian-Pac-Islander     1039\nAmer-Indian-Eskimo      311\nOther                   271\nName: Race, dtype: int64"
          },
          "metadata": {},
          "execution_count": 161
        }
      ],
      "metadata": {
        "_execution_state": "idle",
        "_cell_guid": "29901107-1ec8-423f-8bd9-888ef19d929e",
        "_uuid": "314f4af54ca709af9eaa64712bd9753b349eb875",
        "collapsed": false,
        "trusted": false
      },
      "execution_count": 161,
      "source": "train['Race'].value_counts()",
      "cell_type": "code"
    },
    {
      "outputs": [
        {
          "output_type": "execute_result",
          "data": {
            "text/plain": "White                 0.854274\nBlack                 0.095943\nAsian-Pac-Islander    0.031909\nAmer-Indian-Eskimo    0.009551\nOther                 0.008323\nName: Race, dtype: float64"
          },
          "metadata": {},
          "execution_count": 162
        }
      ],
      "metadata": {
        "_execution_state": "idle",
        "_cell_guid": "52f8f431-7bbc-4860-b56f-05e84be40ddd",
        "_uuid": "ec0672b02fd06e6c7244397fa37a5d5998fb71b8",
        "collapsed": false,
        "trusted": false
      },
      "execution_count": 162,
      "source": "# Percentage of people in each race\ntrain['Race'].value_counts()/train.shape[0]",
      "cell_type": "code"
    },
    {
      "outputs": [],
      "metadata": {
        "_execution_state": "idle",
        "_cell_guid": "e2023fb6-442a-4116-8cfa-929f110d485f",
        "_uuid": "f47e421700b70cbc3bc49fadb2723bec35f48ba8",
        "collapsed": false
      },
      "execution_count": null,
      "source": "### Analysing Native Country\n",
      "cell_type": "markdown"
    },
    {
      "outputs": [
        {
          "output_type": "execute_result",
          "data": {
            "text/plain": "United-States                 29170\nMexico                          643\nPhilippines                     198\nGermany                         137\nCanada                          121\nPuerto-Rico                     114\nEl-Salvador                     106\nIndia                           100\nCuba                             95\nEngland                          90\nJamaica                          81\nSouth                            80\nChina                            75\nItaly                            73\nDominican-Republic               70\nVietnam                          67\nGuatemala                        64\nJapan                            62\nPoland                           60\nColumbia                         59\nTaiwan                           51\nHaiti                            44\nIran                             43\nPortugal                         37\nNicaragua                        34\nPeru                             31\nFrance                           29\nGreece                           29\nEcuador                          28\nIreland                          24\nHong                             20\nTrinadad&Tobago                  19\nCambodia                         19\nThailand                         18\nLaos                             18\nYugoslavia                       16\nOutlying-US(Guam-USVI-etc)       14\nHungary                          13\nHonduras                         13\nScotland                         12\nHoland-Netherlands                1\nName: Native.Country, dtype: int64"
          },
          "metadata": {},
          "execution_count": 163
        }
      ],
      "metadata": {
        "_execution_state": "idle",
        "_cell_guid": "24ee7454-6e35-447e-b706-845940b1435e",
        "_uuid": "ee3ba3ab0a82e996f1c054b0b405b32995f507d0",
        "collapsed": false,
        "trusted": false
      },
      "execution_count": 163,
      "source": "train['Native.Country'].value_counts()",
      "cell_type": "code"
    },
    {
      "outputs": [
        {
          "output_type": "execute_result",
          "data": {
            "text/plain": "United-States                 0.895857\nMexico                        0.019748\nPhilippines                   0.006081\nGermany                       0.004207\nCanada                        0.003716\nPuerto-Rico                   0.003501\nEl-Salvador                   0.003255\nIndia                         0.003071\nCuba                          0.002918\nEngland                       0.002764\nJamaica                       0.002488\nSouth                         0.002457\nChina                         0.002303\nItaly                         0.002242\nDominican-Republic            0.002150\nVietnam                       0.002058\nGuatemala                     0.001966\nJapan                         0.001904\nPoland                        0.001843\nColumbia                      0.001812\nTaiwan                        0.001566\nHaiti                         0.001351\nIran                          0.001321\nPortugal                      0.001136\nNicaragua                     0.001044\nPeru                          0.000952\nFrance                        0.000891\nGreece                        0.000891\nEcuador                       0.000860\nIreland                       0.000737\nHong                          0.000614\nTrinadad&Tobago               0.000584\nCambodia                      0.000584\nThailand                      0.000553\nLaos                          0.000553\nYugoslavia                    0.000491\nOutlying-US(Guam-USVI-etc)    0.000430\nHungary                       0.000399\nHonduras                      0.000399\nScotland                      0.000369\nHoland-Netherlands            0.000031\nName: Native.Country, dtype: float64"
          },
          "metadata": {},
          "execution_count": 164
        }
      ],
      "metadata": {
        "_execution_state": "idle",
        "_cell_guid": "b2a469bb-491f-4e59-a8c3-6f88ae594f1b",
        "_uuid": "ee0575793bd42ae951bf0cdf8bb1bbc072b11c25",
        "collapsed": false,
        "trusted": false
      },
      "execution_count": 164,
      "source": "# Percentage of people from the native country\ntrain['Native.Country'].value_counts()/train.shape[0]",
      "cell_type": "code"
    },
    {
      "outputs": [],
      "metadata": {
        "_execution_state": "idle",
        "_cell_guid": "0d5f4649-8ebe-47e6-8544-5294be21a337",
        "_uuid": "57e6e6c7ed6b4bf76716762e56eacab24572a3b4",
        "collapsed": false
      },
      "execution_count": null,
      "source": "~90% are from United states while only ~2% are from Mexico.",
      "cell_type": "markdown"
    },
    {
      "outputs": [
        {
          "output_type": "execute_result",
          "data": {
            "text/plain": "20.0"
          },
          "metadata": {},
          "execution_count": 165
        }
      ],
      "metadata": {
        "_execution_state": "idle",
        "_cell_guid": "02b97b5c-ce1e-4c07-aef3-88c7e57f406d",
        "_uuid": "80b88ae4ed49879299e3e8b3f625d30f966a04e6",
        "collapsed": false,
        "trusted": false
      },
      "execution_count": 165,
      "source": "# Calculating Inter-Quartile Range for age variable\ntrain['Age'].quantile(0.75) - train['Age'].quantile(0.25)\n",
      "cell_type": "code"
    },
    {
      "outputs": [],
      "metadata": {
        "_execution_state": "idle",
        "_cell_guid": "83ca77bd-bda6-4e9a-be3b-c0a0c54f685e",
        "_uuid": "d900ed196fb2453fb87ac0ae8931b0f0b8cd135d",
        "collapsed": false
      },
      "execution_count": null,
      "source": "# Mutlivariate Analysis",
      "cell_type": "markdown"
    },
    {
      "outputs": [],
      "metadata": {
        "_execution_state": "idle",
        "_cell_guid": "fd0bb59e-a153-4f10-82b6-d643e66270b5",
        "_uuid": "0ce08b62b727ac71c55f11baa6f6ae292f4c1ea3",
        "collapsed": false
      },
      "execution_count": null,
      "source": "Multivariate Analysis finds out the relationship between two or more variables. Here, we look for association and disassociation between variables at a pre-defined significance level.\nThe type of visualization technique to use depends on the type of each variable. Thus there can be 3 combinations of the type of the 2 variables:\n\n 1. categorical - categorical \n 2. continuous - continuous\n 3. categorical - continuous    ",
      "cell_type": "markdown"
    },
    {
      "outputs": [],
      "metadata": {
        "_execution_state": "idle",
        "_cell_guid": "805d59e9-86b9-452f-8392-20a4b19d7c79",
        "_uuid": "492da51298b3e07ea9926fcde427d33c598eb8c3",
        "collapsed": false
      },
      "execution_count": null,
      "source": "## 1. Both Categorical",
      "cell_type": "markdown"
    },
    {
      "outputs": [
        {
          "output_type": "stream",
          "name": "stdout",
          "text": "Income.Group  <=50K  >50K    All\nSex                             \nFemale         9592  1179  10771\nMale          15128  6662  21790\nAll           24720  7841  32561\n"
        }
      ],
      "metadata": {
        "_execution_state": "idle",
        "_cell_guid": "3fb125c7-4a48-4495-94af-b1c6fc0f6b46",
        "_uuid": "28e205fcc3477df9f62d0f4c1ea28ace0b55ace8",
        "collapsed": false,
        "trusted": false
      },
      "execution_count": 166,
      "source": "# Cross tabulation of Sex and Income Group\nct = pd.crosstab(train['Sex'],train['Income.Group'], margins = True)\nprint (ct)",
      "cell_type": "code"
    },
    {
      "outputs": [
        {
          "output_type": "execute_result",
          "data": {
            "text/plain": "<matplotlib.axes._subplots.AxesSubplot at 0x7f307ec95ac8>"
          },
          "metadata": {},
          "execution_count": 167
        },
        {
          "output_type": "display_data",
          "data": {
            "text/plain": "<matplotlib.figure.Figure at 0x7f307ea99c50>",
            "image/png": "[encoded data removed]"
          },
          "metadata": {},
          "transient": {}
        }
      ],
      "metadata": {
        "_execution_state": "idle",
        "_cell_guid": "b1fc0bfb-9995-4f64-80c6-da9c4ca60edf",
        "_uuid": "67adf8c05a7665289fdbeb54786a542dbbaec8ce",
        "collapsed": false,
        "trusted": false
      },
      "execution_count": 167,
      "source": "# plotting\n%matplotlib inline\nct.iloc[:-1,:-1].plot(kind = 'bar', stacked = True, color = ['red','blue'], grid = False)",
      "cell_type": "code"
    },
    {
      "outputs": [
        {
          "output_type": "execute_result",
          "data": {
            "text/plain": "<matplotlib.axes._subplots.AxesSubplot at 0x7f307ea7d128>"
          },
          "metadata": {},
          "execution_count": 168
        },
        {
          "output_type": "display_data",
          "data": {
            "text/plain": "<matplotlib.figure.Figure at 0x7f307ea77710>",
            "image/png": "[encoded data removed]"
          },
          "metadata": {},
          "transient": {}
        }
      ],
      "metadata": {
        "_execution_state": "idle",
        "_cell_guid": "077801fd-2a46-496d-970f-ce3c2c02a69e",
        "_uuid": "06845eec3a72b2e68731e9829996611f4fb1fda7",
        "collapsed": false,
        "trusted": false
      },
      "execution_count": 168,
      "source": "# Plotting percentages of females and males in each group\ndef perConvert(ser):\n    return ser/float(ser[-1])\nct2 = ct.apply(perConvert, axis = 1)\nct2.iloc[:-1,:-1].plot(kind = 'bar', stacked = True, color = ['red','blue'], grid = False)",
      "cell_type": "code"
    },
    {
      "outputs": [],
      "metadata": {
        "_execution_state": "idle",
        "_cell_guid": "ac922892-0f1e-4936-bf77-2f112d1c90e2",
        "_uuid": "18f27d38df156c278c36ebc1d32ae2ea460753bf",
        "collapsed": false
      },
      "execution_count": null,
      "source": "## 2. Both Continuous",
      "cell_type": "markdown"
    },
    {
      "outputs": [
        {
          "output_type": "execute_result",
          "data": {
            "text/plain": "<matplotlib.axes._subplots.AxesSubplot at 0x7f307e8d0f98>"
          },
          "metadata": {},
          "execution_count": 169
        },
        {
          "output_type": "display_data",
          "data": {
            "text/plain": "<matplotlib.figure.Figure at 0x7f307e9dc518>",
            "image/png": "[encoded data removed]"
          },
          "metadata": {},
          "transient": {}
        }
      ],
      "metadata": {
        "_execution_state": "idle",
        "_cell_guid": "cf190663-353e-4ec2-9bf6-35c06a48730a",
        "_uuid": "ffd74beea7219421d410d4320b4d9db5e9bf8c77",
        "collapsed": false,
        "trusted": false
      },
      "execution_count": 169,
      "source": "# Scatter plot of age and Hours-per-week\ntrain.plot('Age','Hours.Per.Week', kind ='scatter')",
      "cell_type": "code"
    },
    {
      "outputs": [],
      "metadata": {
        "_execution_state": "idle",
        "_cell_guid": "597e3fd5-1d9a-4420-bb14-01c2cd488404",
        "_uuid": "23b51da8beb50a6cb19e7ccdd2019511861eb4d9",
        "collapsed": false
      },
      "execution_count": null,
      "source": "This shows no real relationship between Age and Hours-Per-Week. Even intuitively we were not expecting any specific trend so this is good. In other cases, you might figure out interesting trends which can be exploited.",
      "cell_type": "markdown"
    },
    {
      "outputs": [],
      "metadata": {
        "_execution_state": "idle",
        "_cell_guid": "aa15241d-915c-4c09-b01a-f6179692a1ed",
        "_uuid": "1c87d661d45ad48151f07cb0b8f26b31ab94f9e3",
        "collapsed": false
      },
      "execution_count": null,
      "source": "## 3. Categorical - Continuous",
      "cell_type": "markdown"
    },
    {
      "outputs": [
        {
          "output_type": "execute_result",
          "data": {
            "text/plain": "<matplotlib.axes._subplots.AxesSubplot at 0x7f307ea99160>"
          },
          "metadata": {},
          "execution_count": 170
        },
        {
          "output_type": "display_data",
          "data": {
            "text/plain": "<matplotlib.figure.Figure at 0x7f307e8896d8>",
            "image/png": "[encoded data removed]"
          },
          "metadata": {},
          "transient": {}
        }
      ],
      "metadata": {
        "_execution_state": "idle",
        "_cell_guid": "5ce9b3f4-969d-4888-9e4a-5676a54fc639",
        "_uuid": "12dadaf84a72982d22a0b081813d757353be955f",
        "collapsed": false,
        "trusted": false
      },
      "execution_count": 170,
      "source": "train.boxplot(column = 'Hours.Per.Week', by ='Sex')",
      "cell_type": "code"
    },
    {
      "outputs": [
        {
          "output_type": "execute_result",
          "data": {
            "text/plain": "Male      0.464605\nFemale    0.294586\nName: Sex, dtype: float64"
          },
          "metadata": {},
          "execution_count": 171
        }
      ],
      "metadata": {
        "_execution_state": "idle",
        "_cell_guid": "7ba777bf-89db-4845-b677-b8a3abb8604d",
        "_uuid": "7f694f6c546c1e5c3ee6cf82ba140355ac58a02c",
        "collapsed": false,
        "trusted": false
      },
      "execution_count": 171,
      "source": "# Percentage of males with income <=50K\ntrain['Sex'][train['Income.Group'] == '<=50K'].value_counts()/train.shape[0]\n",
      "cell_type": "code"
    },
    {
      "outputs": [],
      "metadata": {
        "_execution_state": "idle",
        "_cell_guid": "75ae661a-6a94-4655-b6c6-a5698649f24c",
        "_uuid": "a92d51df5b3eb66dba1908576586bc06fc822e6f",
        "collapsed": false
      },
      "execution_count": null,
      "source": "# Missing Value Treatment",
      "cell_type": "markdown"
    },
    {
      "outputs": [],
      "metadata": {
        "_execution_state": "idle",
        "_cell_guid": "ce54b045-0147-4eee-82e3-41b0e13c5fe9",
        "_uuid": "c344cd4f1ea1bafba9a1b868d30c2e439d3806bb",
        "collapsed": false
      },
      "execution_count": null,
      "source": "## 1. Check Missing Values",
      "cell_type": "markdown"
    },
    {
      "outputs": [
        {
          "output_type": "execute_result",
          "data": {
            "text/plain": "ID                   0\nAge                  0\nWorkclass         1836\nEducation            0\nMarital.Status       0\nOccupation        1843\nRelationship         0\nRace                 0\nSex                  0\nHours.Per.Week       0\nNative.Country     583\nIncome.Group         0\ndtype: int64"
          },
          "metadata": {},
          "execution_count": 172
        }
      ],
      "metadata": {
        "_execution_state": "idle",
        "_cell_guid": "4d64323b-bd00-41a8-a6cf-ec5ebccc0c9c",
        "_uuid": "0b3da6f040ba998b8d28d10b128eb296013889d7",
        "collapsed": false,
        "trusted": false
      },
      "execution_count": 172,
      "source": "# MIssing Values in training dataset\ntrain.apply(lambda x: sum(x.isnull()))",
      "cell_type": "code"
    },
    {
      "outputs": [
        {
          "output_type": "execute_result",
          "data": {
            "text/plain": "ID                  0\nAge                 0\nWorkclass         963\nEducation           0\nMarital.Status      0\nOccupation        966\nRelationship        0\nRace                0\nSex                 0\nHours.Per.Week      0\nNative.Country    274\ndtype: int64"
          },
          "metadata": {},
          "execution_count": 173
        }
      ],
      "metadata": {
        "_execution_state": "idle",
        "_cell_guid": "f832c1ab-b86e-411c-b86a-1b3f378ea4f3",
        "_uuid": "5d84d08b3cecaee90696fce4d66fb20841e43397",
        "collapsed": false,
        "trusted": false
      },
      "execution_count": 173,
      "source": "# Missing values in test dataset\ntest.apply(lambda x: sum(x.isnull()))",
      "cell_type": "code"
    },
    {
      "outputs": [],
      "metadata": {
        "_execution_state": "idle",
        "_cell_guid": "e089c884-56e0-4a02-b2ec-86300616a067",
        "_uuid": "a3257d8b9d75410a97e8cbf0cb07e59e8f3dd69d",
        "collapsed": false
      },
      "execution_count": null,
      "source": "Here we have missing values in 3 variables in both test and train:\n\n 1. Workclass (categorical)\n 2. Occupation (categorical)\n 3. Native-Country (categorical)\n\nSince all of these are categorical, we can simply impute them with the mode values.\n",
      "cell_type": "markdown"
    },
    {
      "outputs": [],
      "metadata": {
        "_execution_state": "idle",
        "_cell_guid": "cd506a5f-3520-4294-9433-fe9707d534f1",
        "_uuid": "ce359bc081823e9504f7a970e827755373f383b0",
        "collapsed": false
      },
      "execution_count": null,
      "source": "# 2. Imputation",
      "cell_type": "markdown"
    },
    {
      "outputs": [
        {
          "output_type": "stream",
          "name": "stderr",
          "text": "/opt/conda/lib/python3.6/site-packages/scipy/stats/stats.py:253: RuntimeWarning: The input array could not be properly checked for nan values. nan values will be ignored.\n  \"values. nan values will be ignored.\", RuntimeWarning)\n"
        },
        {
          "output_type": "execute_result",
          "data": {
            "text/plain": "'Private'"
          },
          "metadata": {},
          "execution_count": 174
        }
      ],
      "metadata": {
        "_execution_state": "idle",
        "_cell_guid": "90499056-db6a-4240-8a93-868342db9c78",
        "_uuid": "130f664980c1f5575624343b8ff30163c604aa05",
        "collapsed": false,
        "trusted": false
      },
      "execution_count": 174,
      "source": "# import function\nfrom scipy.stats import mode\nmode((train['Workclass'].astype(str))).mode[0]",
      "cell_type": "code"
    },
    {
      "outputs": [
        {
          "output_type": "stream",
          "name": "stderr",
          "text": "/opt/conda/lib/python3.6/site-packages/scipy/stats/stats.py:253: RuntimeWarning: The input array could not be properly checked for nan values. nan values will be ignored.\n  \"values. nan values will be ignored.\", RuntimeWarning)\n"
        }
      ],
      "metadata": {
        "_execution_state": "idle",
        "_cell_guid": "1d1f8ed7-3cf6-471c-ad68-6ed4d3b909c4",
        "_uuid": "47ff4cac652c14ab238bd957fc6e8e1e44347994",
        "collapsed": false,
        "trusted": false
      },
      "execution_count": 175,
      "source": "# Imputing values \nvar_to_impute = ['Workclass','Occupation', 'Native.Country']\nfor var in var_to_impute:\n    train[var].fillna(mode((train[var].astype(str))).mode[0], inplace = True)\n    test[var].fillna(mode((test[var].astype(str))).mode[0], inplace = True)",
      "cell_type": "code"
    },
    {
      "outputs": [
        {
          "output_type": "execute_result",
          "data": {
            "text/plain": "ID                0\nAge               0\nWorkclass         0\nEducation         0\nMarital.Status    0\nOccupation        0\nRelationship      0\nRace              0\nSex               0\nHours.Per.Week    0\nNative.Country    0\nIncome.Group      0\ndtype: int64"
          },
          "metadata": {},
          "execution_count": 176
        }
      ],
      "metadata": {
        "_execution_state": "idle",
        "_cell_guid": "d088c14b-b329-43d5-bda2-e2c824c307b2",
        "_uuid": "a01d50e8e5f649b4aa6cc5800fcae4564169c3c9",
        "collapsed": false,
        "trusted": false
      },
      "execution_count": 176,
      "source": "# Checking missing values\ntrain.apply(lambda x: sum(x.isnull()))",
      "cell_type": "code"
    },
    {
      "outputs": [
        {
          "output_type": "execute_result",
          "data": {
            "text/plain": "ID                0\nAge               0\nWorkclass         0\nEducation         0\nMarital.Status    0\nOccupation        0\nRelationship      0\nRace              0\nSex               0\nHours.Per.Week    0\nNative.Country    0\ndtype: int64"
          },
          "metadata": {},
          "execution_count": 177
        }
      ],
      "metadata": {
        "_execution_state": "idle",
        "_cell_guid": "8b8356b3-d2aa-47d1-9d16-f5a92e2612d4",
        "_uuid": "377bc9ab9d2694b12500b1888a91857093aa27a9",
        "collapsed": false,
        "trusted": false
      },
      "execution_count": 177,
      "source": "test.apply(lambda x: sum(x.isnull()))",
      "cell_type": "code"
    },
    {
      "outputs": [],
      "metadata": {
        "_execution_state": "idle",
        "_cell_guid": "b3157c6f-01f0-45c6-8c4e-97b7f60064b8",
        "_uuid": "0792548fe22c216381241c10525b48b40aef00bc",
        "collapsed": false
      },
      "execution_count": null,
      "source": "# Outlier Treatment",
      "cell_type": "markdown"
    },
    {
      "outputs": [
        {
          "output_type": "execute_result",
          "data": {
            "text/plain": "<matplotlib.axes._subplots.AxesSubplot at 0x7f307e80ab00>"
          },
          "metadata": {},
          "execution_count": 178
        },
        {
          "output_type": "display_data",
          "data": {
            "text/plain": "<matplotlib.figure.Figure at 0x7f307e80ae48>",
            "image/png": "[encoded data removed]"
          },
          "metadata": {},
          "transient": {}
        }
      ],
      "metadata": {
        "_execution_state": "idle",
        "_cell_guid": "e292c324-6e43-4819-a6a3-90a2bd97fc3a",
        "_uuid": "947237fc6c1385c7835cb8820573b7c5f843b30e",
        "collapsed": false,
        "trusted": false
      },
      "execution_count": 178,
      "source": "# Checking the outlier by scatter plots\n%matplotlib inline\ntrain.plot('ID','Age', kind ='scatter')",
      "cell_type": "code"
    },
    {
      "outputs": [
        {
          "output_type": "execute_result",
          "data": {
            "text/plain": "<matplotlib.axes._subplots.AxesSubplot at 0x7f307e7c7358>"
          },
          "metadata": {},
          "execution_count": 179
        },
        {
          "output_type": "display_data",
          "data": {
            "text/plain": "<matplotlib.figure.Figure at 0x7f307e958d68>",
            "image/png": "[encoded data removed]"
          },
          "metadata": {},
          "transient": {}
        }
      ],
      "metadata": {
        "_execution_state": "idle",
        "_cell_guid": "2366488f-e08e-4097-9285-335107200aa0",
        "_uuid": "7ad593b8b453fc7b71d011d490eb0d08dbe6f350",
        "collapsed": false,
        "trusted": false
      },
      "execution_count": 179,
      "source": "# ID vs Hours-Per-Week\ntrain.plot('ID','Hours.Per.Week', kind = 'scatter')",
      "cell_type": "code"
    },
    {
      "outputs": [],
      "metadata": {
        "_execution_state": "idle",
        "_cell_guid": "41d9c7f5-6f70-4f3e-b370-370910513880",
        "_uuid": "76e03424b26bb8d9150f42217f0ab183ae44fdd7",
        "collapsed": false
      },
      "execution_count": null,
      "source": "In both of the above cases, you would notice that there are no real outliers. One thing to note here is that outliers need not just be a value outside the general cluster of data, as shown in the video lecture.\nYou should also look for values which are not practically possible. For instance, if any of the age or hours per week was negative, then we should certainly treat it like a missing value.",
      "cell_type": "markdown"
    },
    {
      "outputs": [],
      "metadata": {
        "_execution_state": "idle",
        "_cell_guid": "f72cc80c-523f-44cc-b429-0b8edda6af6c",
        "_uuid": "25327ad807321ced787ad5675b2093f1f856d05a",
        "collapsed": false
      },
      "execution_count": null,
      "source": "# Variable Transformation",
      "cell_type": "markdown"
    },
    {
      "outputs": [],
      "metadata": {
        "_execution_state": "idle",
        "_cell_guid": "15b6a0a6-ef49-4973-b8e5-6a00001fddd9",
        "_uuid": "4e30d681cbea2f171913bb57120c323b38912c1e",
        "collapsed": false
      },
      "execution_count": null,
      "source": "Depending on the business scenario, we can combine the categories with very few observations. As a thumbrule, lets combine categories with less than 5% of the values.",
      "cell_type": "markdown"
    },
    {
      "outputs": [
        {
          "output_type": "execute_result",
          "data": {
            "text/plain": "Private             0.753417\nSelf-emp-not-inc    0.078038\nLocal-gov           0.064279\nState-gov           0.039864\nSelf-emp-inc        0.034274\nFederal-gov         0.029483\nWithout-pay         0.000430\nNever-worked        0.000215\nName: Workclass, dtype: float64"
          },
          "metadata": {},
          "execution_count": 180
        }
      ],
      "metadata": {
        "_execution_state": "idle",
        "_cell_guid": "7fe8a55f-39d0-48f1-9823-d4d8c2b554ec",
        "_uuid": "80c6caf396669be04657c5d53b3d109165b4b8b8",
        "collapsed": false,
        "trusted": false
      },
      "execution_count": 180,
      "source": "# Determine the percentage of observations in each category\ntrain['Workclass'].value_counts()/train.shape[0]",
      "cell_type": "code"
    },
    {
      "outputs": [],
      "metadata": {
        "_execution_state": "idle",
        "_cell_guid": "4e2017f2-87e8-4799-bf99-336105233bb1",
        "_uuid": "c5d20af802f824c57ca46d952462f2c3ee13bcfb",
        "collapsed": false,
        "trusted": false
      },
      "execution_count": 181,
      "source": "categories_to_combine = ['State-gov','Self-emp-inc','Federal-gov', 'Without-pay', 'Never-worked']\n# Run a loop and replace all the value with others\nfor cat in categories_to_combine:\n    train['Workclass'].replace({cat:'Others'}, inplace = True)\n    test['Workclass'].replace({cat : 'Others'}, inplace = True)",
      "cell_type": "code"
    },
    {
      "outputs": [
        {
          "output_type": "execute_result",
          "data": {
            "text/plain": "Private             0.753417\nOthers              0.104266\nSelf-emp-not-inc    0.078038\nLocal-gov           0.064279\nName: Workclass, dtype: float64"
          },
          "metadata": {},
          "execution_count": 182
        }
      ],
      "metadata": {
        "_execution_state": "idle",
        "_cell_guid": "2e9f8330-33de-4390-b22e-e1f6c6bb494f",
        "_uuid": "ddcb4013618a5ac05bb8dbb52ee76e899b23b9bc",
        "collapsed": false,
        "trusted": false
      },
      "execution_count": 182,
      "source": "# Checking new categories in train\ntrain['Workclass'].value_counts()/train.shape[0]",
      "cell_type": "code"
    },
    {
      "outputs": [
        {
          "output_type": "execute_result",
          "data": {
            "text/plain": "Private             0.747681\nOthers              0.107119\nSelf-emp-not-inc    0.081138\nLocal-gov           0.064062\nName: Workclass, dtype: float64"
          },
          "metadata": {},
          "execution_count": 183
        }
      ],
      "metadata": {
        "_execution_state": "idle",
        "_cell_guid": "66b5f5a7-21ff-4207-9ea3-27a897a0257a",
        "_uuid": "ea27b3d123c493a5853e94a0ba532ac081ab293f",
        "collapsed": false,
        "trusted": false
      },
      "execution_count": 183,
      "source": "# Checking new categories in train\ntest['Workclass'].value_counts()/test.shape[0]",
      "cell_type": "code"
    },
    {
      "outputs": [],
      "metadata": {
        "_execution_state": "idle",
        "_cell_guid": "bcd7192d-40ee-4ca0-bc6b-005ea4e95665",
        "_uuid": "206c636bf708f17aae29c2b61c16bbd4947438c7",
        "collapsed": false
      },
      "execution_count": null,
      "source": "## Combining the rest of the categories in other columns",
      "cell_type": "markdown"
    },
    {
      "outputs": [],
      "metadata": {
        "_execution_state": "idle",
        "_cell_guid": "68b6d6b2-78d5-4896-9d0f-39700691f780",
        "_uuid": "ade0aca2ebb4335aeb51232bcfe6563c98df6782",
        "collapsed": false
      },
      "execution_count": null,
      "source": "### 1. Make a list of vairables to combine.\n",
      "cell_type": "markdown"
    },
    {
      "outputs": [
        {
          "output_type": "execute_result",
          "data": {
            "text/plain": "['Workclass',\n 'Education',\n 'Marital.Status',\n 'Occupation',\n 'Relationship',\n 'Race',\n 'Sex',\n 'Native.Country',\n 'Income.Group']"
          },
          "metadata": {},
          "execution_count": 184
        }
      ],
      "metadata": {
        "_execution_state": "idle",
        "_cell_guid": "cc3a6049-7b21-41e3-9f1d-e9ba7eb40a3d",
        "_uuid": "da7a0c7ce8737044539c711c4d932882cf81b53e",
        "collapsed": false,
        "trusted": false
      },
      "execution_count": 184,
      "source": "# Picking only variables with the dtype = object\ncategorical_variables = list(train.dtypes.loc[train.dtypes == 'object'].index)\ncategorical_variables",
      "cell_type": "code"
    },
    {
      "outputs": [
        {
          "output_type": "execute_result",
          "data": {
            "text/plain": "['Education',\n 'Marital.Status',\n 'Occupation',\n 'Relationship',\n 'Race',\n 'Sex',\n 'Native.Country',\n 'Income.Group']"
          },
          "metadata": {},
          "execution_count": 185
        }
      ],
      "metadata": {
        "_execution_state": "idle",
        "_cell_guid": "b5c122ce-6052-4027-9b11-0b4ecb1437ab",
        "_uuid": "12009d4a9fd8f851988afabff970fd012c36a691",
        "collapsed": false,
        "trusted": false
      },
      "execution_count": 185,
      "source": "# Remove workplace variable as already been transformed\ncategorical_variables = categorical_variables[1:]\ncategorical_variables",
      "cell_type": "code"
    },
    {
      "outputs": [
        {
          "output_type": "execute_result",
          "data": {
            "text/plain": "Education         16\nMarital.Status     7\nOccupation        14\nRelationship       6\nRace               5\nSex                2\nNative.Country    41\nIncome.Group       2\ndtype: int64"
          },
          "metadata": {},
          "execution_count": 186
        }
      ],
      "metadata": {
        "_execution_state": "idle",
        "_cell_guid": "acb8878b-5056-451d-a949-4ca917408846",
        "_uuid": "d669c149c5c3eff305515fba907a4f2e72855d5d",
        "collapsed": false,
        "trusted": false
      },
      "execution_count": 186,
      "source": "# Check the current number of unique values\ntrain[categorical_variables].apply(lambda x: len(x.unique()))",
      "cell_type": "code"
    },
    {
      "outputs": [],
      "metadata": {
        "_execution_state": "idle",
        "_cell_guid": "0ecee588-6b70-4e89-957f-28fb45d538e8",
        "_uuid": "b9a0a54fea9ff6d47c69210c8296f7aa5c4ab1b0",
        "collapsed": false,
        "trusted": false
      },
      "execution_count": 187,
      "source": "# 2. Run a loop and combine these values\nfor column in categorical_variables:   \n    frq = train[column].value_counts()/train.shape[0]\n    categories_to_combine = frq.loc[frq.values<0.05].index\n    \n    for cat in categories_to_combine:\n        train[column].replace({cat:'Others'}, inplace = True)\n        test[column].replace({cat : 'Others'}, inplace = True)",
      "cell_type": "code"
    },
    {
      "outputs": [
        {
          "output_type": "execute_result",
          "data": {
            "text/plain": "Education         5\nMarital.Status    4\nOccupation        8\nRelationship      5\nRace              3\nSex               2\nNative.Country    2\nIncome.Group      2\ndtype: int64"
          },
          "metadata": {},
          "execution_count": 188
        }
      ],
      "metadata": {
        "_execution_state": "idle",
        "_cell_guid": "c8834d64-325c-486b-aa2d-7b63549d9e59",
        "_uuid": "d8b4ff22b31e68b828ab7afca1d93bacb2fbbabc",
        "collapsed": false,
        "trusted": false
      },
      "execution_count": 188,
      "source": "train[categorical_variables].apply(lambda x: len(x.unique()))",
      "cell_type": "code"
    },
    {
      "outputs": [
        {
          "output_type": "execute_result",
          "data": {
            "text/plain": "Education         5\nMarital.Status    4\nOccupation        8\nRelationship      5\nRace              3\nSex               2\nNative.Country    2\ndtype: int64"
          },
          "metadata": {},
          "execution_count": 189
        }
      ],
      "metadata": {
        "_execution_state": "idle",
        "_cell_guid": "156c1c21-c057-4798-b8da-cffc4bc55a0f",
        "_uuid": "afc53471cd68dd4081f912a0b8a74c947fd877ab",
        "collapsed": false,
        "trusted": false
      },
      "execution_count": 189,
      "source": "test[categorical_variables[:-1]].apply(lambda x: len(x.unique()))",
      "cell_type": "code"
    },
    {
      "outputs": [
        {
          "output_type": "execute_result",
          "data": {
            "text/plain": "1"
          },
          "metadata": {},
          "execution_count": 190
        }
      ],
      "metadata": {
        "_execution_state": "idle",
        "_cell_guid": "534517c1-139a-4974-bfee-71633a089476",
        "_uuid": "7fe56be682e1e640e4e28befb6b90add8b24c523",
        "collapsed": false,
        "trusted": false
      },
      "execution_count": 190,
      "source": "train['Hours.Per.Week'].min()",
      "cell_type": "code"
    },
    {
      "outputs": [
        {
          "output_type": "execute_result",
          "data": {
            "text/plain": "36    16100\n46     3496\n41     2442\n31     1635\n16     1547\n61     1519\n26     1302\n21     1015\n56      841\n11      645\n6       531\n71      365\n66      277\n51      217\n1       205\n81      182\n96      105\n76       83\n91       34\n86       20\nName: Hours.Per.Week, dtype: int64"
          },
          "metadata": {},
          "execution_count": 191
        }
      ],
      "metadata": {
        "_execution_state": "idle",
        "_cell_guid": "7823226d-711e-4928-afe1-ae5b1775d05b",
        "_uuid": "653a1b61755f27f563144f1145e41b70bbcfc92f",
        "collapsed": false,
        "trusted": false
      },
      "execution_count": 191,
      "source": "x = pd.cut(train['Hours.Per.Week'],20, labels = range(1,101,5))\nx.value_counts()",
      "cell_type": "code"
    },
    {
      "outputs": [],
      "metadata": {
        "_execution_state": "idle",
        "_cell_guid": "76b5d422-2bc3-44db-82b7-14b4d326e48d",
        "_uuid": "0fefcd3bfe88d54e9551ba7e1ac074cf226b91ae",
        "collapsed": false
      },
      "execution_count": null,
      "source": "# Predictive Modelling\nSince this is a classification problem, we can start with various models like logistic regression, naive bayes, decision trees, etc. Here we will run a decision tree model as an example.\nFor modeling using sklearn in Pandas, we have to adopt the following steps:\n\n 1. Data Preprocessing: sklearn accepts only numeric data so we've to convert text to numbers\n 2. Training model: fit the model on training data\n 3. Making predictions: use the model to make predictions on test data\n 4. Analyze results: compare the train and test accuracy and derive insights required to improve the model\n\n",
      "cell_type": "markdown"
    },
    {
      "execution_count": null,
      "metadata": {
        "_execution_state": "idle",
        "_cell_guid": "ca123625-c0e3-44f1-8fa2-dcd5ae9b4024",
        "_uuid": "979e38d8c1be8a62306897d8ce6b3ee2c0b3a81b",
        "collapsed": false
      },
      "source": "## Step 1: Data Preprocessing",
      "outputs": [],
      "cell_type": "markdown"
    },
    {
      "execution_count": null,
      "metadata": {
        "_execution_state": "idle",
        "_cell_guid": "ab1a8e88-d317-4d8a-b04b-9c02bb1be388",
        "_uuid": "77f544320c8068c604d54302a9bfa8650f123815",
        "collapsed": false
      },
      "source": "sklearn provides a function LabelEncoder for converting categories to numbers in range 0,1..(N-1) where N is the number of categories.",
      "outputs": [],
      "cell_type": "markdown"
    },
    {
      "execution_count": 192,
      "metadata": {
        "_execution_state": "idle",
        "_cell_guid": "3de07c07-321b-4c10-8235-c64e3b70c919",
        "_uuid": "a57b82dcfaf2f8774804276976b38fd7fa91d1c0",
        "collapsed": false,
        "trusted": false
      },
      "source": "from sklearn.preprocessing import LabelEncoder\ncategorical_variables = train.dtypes[train.dtypes == 'object'].index\ncategorical_variables",
      "outputs": [
        {
          "output_type": "execute_result",
          "data": {
            "text/plain": "Index(['Workclass', 'Education', 'Marital.Status', 'Occupation',\n       'Relationship', 'Race', 'Sex', 'Native.Country', 'Income.Group'],\n      dtype='object')"
          },
          "metadata": {},
          "execution_count": 192
        }
      ],
      "cell_type": "code"
    },
    {
      "metadata": {
        "collapsed": false,
        "_uuid": "c6ea7dadbe0f8c1ec8685880966f1dffb581a648",
        "_execution_state": "idle",
        "trusted": false
      },
      "source": "train.head()",
      "execution_count": 193,
      "cell_type": "code",
      "outputs": [
        {
          "output_type": "execute_result",
          "data": {
            "text/plain": "   ID  Age         Workclass  Education      Marital.Status       Occupation  \\\n0   1   39            Others  Bachelors       Never-married     Adm-clerical   \n1   2   50  Self-emp-not-inc  Bachelors  Married-civ-spouse  Exec-managerial   \n2   3   38           Private    HS-grad            Divorced           Others   \n3   4   53           Private     Others  Married-civ-spouse           Others   \n4   5   28           Private  Bachelors  Married-civ-spouse   Prof-specialty   \n\n    Relationship   Race     Sex  Hours.Per.Week Native.Country Income.Group  \n0  Not-in-family  White    Male              40  United-States        <=50K  \n1        Husband  White    Male              13  United-States        <=50K  \n2  Not-in-family  White    Male              40  United-States        <=50K  \n3        Husband  Black    Male              40  United-States        <=50K  \n4         Others  Black  Female              40         Others        <=50K  ",
            "text/html": "<div>\n<style>\n    .dataframe thead tr:only-child th {\n        text-align: right;\n    }\n\n    .dataframe thead th {\n        text-align: left;\n    }\n\n    .dataframe tbody tr th {\n        vertical-align: top;\n    }\n</style>\n<table border=\"1\" class=\"dataframe\">\n  <thead>\n    <tr style=\"text-align: right;\">\n      <th></th>\n      <th>ID</th>\n      <th>Age</th>\n      <th>Workclass</th>\n      <th>Education</th>\n      <th>Marital.Status</th>\n      <th>Occupation</th>\n      <th>Relationship</th>\n      <th>Race</th>\n      <th>Sex</th>\n      <th>Hours.Per.Week</th>\n      <th>Native.Country</th>\n      <th>Income.Group</th>\n    </tr>\n  </thead>\n  <tbody>\n    <tr>\n      <th>0</th>\n      <td>1</td>\n      <td>39</td>\n      <td>Others</td>\n      <td>Bachelors</td>\n      <td>Never-married</td>\n      <td>Adm-clerical</td>\n      <td>Not-in-family</td>\n      <td>White</td>\n      <td>Male</td>\n      <td>40</td>\n      <td>United-States</td>\n      <td>&lt;=50K</td>\n    </tr>\n    <tr>\n      <th>1</th>\n      <td>2</td>\n      <td>50</td>\n      <td>Self-emp-not-inc</td>\n      <td>Bachelors</td>\n      <td>Married-civ-spouse</td>\n      <td>Exec-managerial</td>\n      <td>Husband</td>\n      <td>White</td>\n      <td>Male</td>\n      <td>13</td>\n      <td>United-States</td>\n      <td>&lt;=50K</td>\n    </tr>\n    <tr>\n      <th>2</th>\n      <td>3</td>\n      <td>38</td>\n      <td>Private</td>\n      <td>HS-grad</td>\n      <td>Divorced</td>\n      <td>Others</td>\n      <td>Not-in-family</td>\n      <td>White</td>\n      <td>Male</td>\n      <td>40</td>\n      <td>United-States</td>\n      <td>&lt;=50K</td>\n    </tr>\n    <tr>\n      <th>3</th>\n      <td>4</td>\n      <td>53</td>\n      <td>Private</td>\n      <td>Others</td>\n      <td>Married-civ-spouse</td>\n      <td>Others</td>\n      <td>Husband</td>\n      <td>Black</td>\n      <td>Male</td>\n      <td>40</td>\n      <td>United-States</td>\n      <td>&lt;=50K</td>\n    </tr>\n    <tr>\n      <th>4</th>\n      <td>5</td>\n      <td>28</td>\n      <td>Private</td>\n      <td>Bachelors</td>\n      <td>Married-civ-spouse</td>\n      <td>Prof-specialty</td>\n      <td>Others</td>\n      <td>Black</td>\n      <td>Female</td>\n      <td>40</td>\n      <td>Others</td>\n      <td>&lt;=50K</td>\n    </tr>\n  </tbody>\n</table>\n</div>"
          },
          "metadata": {},
          "execution_count": 193
        }
      ]
    },
    {
      "execution_count": 194,
      "metadata": {
        "_execution_state": "idle",
        "_cell_guid": "29bdcf1b-51e4-42fb-9beb-67f2a94bfe3c",
        "_uuid": "9a69897a4e4029450aece1fbfdf97da724541458",
        "collapsed": false,
        "trusted": false
      },
      "source": "# Using LabelEncoder\nle = LabelEncoder()\nfor var in categorical_variables:\n    train[var] = le.fit_transform(train[var])\n\nfor var in categorical_variables[:-1]:\n    test[var] = le.fit_transform(test[var])\n\ntrain.head()",
      "outputs": [
        {
          "output_type": "execute_result",
          "data": {
            "text/plain": "   ID  Age  Workclass  Education  Marital.Status  Occupation  Relationship  \\\n0   1   39          1          0               2           0             1   \n1   2   50          3          0               1           2             0   \n2   3   38          2          1               0           5             1   \n3   4   53          2          3               1           5             0   \n4   5   28          2          0               1           6             2   \n\n   Race  Sex  Hours.Per.Week  Native.Country  Income.Group  \n0     2    1              40               1             0  \n1     2    1              13               1             0  \n2     2    1              40               1             0  \n3     0    1              40               1             0  \n4     0    0              40               0             0  ",
            "text/html": "<div>\n<style>\n    .dataframe thead tr:only-child th {\n        text-align: right;\n    }\n\n    .dataframe thead th {\n        text-align: left;\n    }\n\n    .dataframe tbody tr th {\n        vertical-align: top;\n    }\n</style>\n<table border=\"1\" class=\"dataframe\">\n  <thead>\n    <tr style=\"text-align: right;\">\n      <th></th>\n      <th>ID</th>\n      <th>Age</th>\n      <th>Workclass</th>\n      <th>Education</th>\n      <th>Marital.Status</th>\n      <th>Occupation</th>\n      <th>Relationship</th>\n      <th>Race</th>\n      <th>Sex</th>\n      <th>Hours.Per.Week</th>\n      <th>Native.Country</th>\n      <th>Income.Group</th>\n    </tr>\n  </thead>\n  <tbody>\n    <tr>\n      <th>0</th>\n      <td>1</td>\n      <td>39</td>\n      <td>1</td>\n      <td>0</td>\n      <td>2</td>\n      <td>0</td>\n      <td>1</td>\n      <td>2</td>\n      <td>1</td>\n      <td>40</td>\n      <td>1</td>\n      <td>0</td>\n    </tr>\n    <tr>\n      <th>1</th>\n      <td>2</td>\n      <td>50</td>\n      <td>3</td>\n      <td>0</td>\n      <td>1</td>\n      <td>2</td>\n      <td>0</td>\n      <td>2</td>\n      <td>1</td>\n      <td>13</td>\n      <td>1</td>\n      <td>0</td>\n    </tr>\n    <tr>\n      <th>2</th>\n      <td>3</td>\n      <td>38</td>\n      <td>2</td>\n      <td>1</td>\n      <td>0</td>\n      <td>5</td>\n      <td>1</td>\n      <td>2</td>\n      <td>1</td>\n      <td>40</td>\n      <td>1</td>\n      <td>0</td>\n    </tr>\n    <tr>\n      <th>3</th>\n      <td>4</td>\n      <td>53</td>\n      <td>2</td>\n      <td>3</td>\n      <td>1</td>\n      <td>5</td>\n      <td>0</td>\n      <td>0</td>\n      <td>1</td>\n      <td>40</td>\n      <td>1</td>\n      <td>0</td>\n    </tr>\n    <tr>\n      <th>4</th>\n      <td>5</td>\n      <td>28</td>\n      <td>2</td>\n      <td>0</td>\n      <td>1</td>\n      <td>6</td>\n      <td>2</td>\n      <td>0</td>\n      <td>0</td>\n      <td>40</td>\n      <td>0</td>\n      <td>0</td>\n    </tr>\n  </tbody>\n</table>\n</div>"
          },
          "metadata": {},
          "execution_count": 194
        }
      ],
      "cell_type": "code"
    },
    {
      "execution_count": 195,
      "metadata": {
        "_execution_state": "idle",
        "_cell_guid": "79e54e7f-7aa0-47d5-a34f-b2893ef6b331",
        "_uuid": "1a866ba80109bcd4118ab3f31ae2c4c5e1a32b85",
        "collapsed": false,
        "trusted": false
      },
      "source": "test.head()",
      "outputs": [
        {
          "output_type": "execute_result",
          "data": {
            "text/plain": "      ID  Age  Workclass  Education  Marital.Status  Occupation  Relationship  \\\n0  32562   25          2          3               2           3             3   \n1  32563   38          2          1               1           5             0   \n2  32564   28          0          3               1           5             0   \n3  32565   44          2          4               1           3             0   \n4  32566   18          2          4               2           6             3   \n\n   Race  Sex  Hours.Per.Week  Native.Country  \n0     0    1              40               1  \n1     2    1              50               1  \n2     2    1              40               1  \n3     0    1              40               1  \n4     2    0              30               1  ",
            "text/html": "<div>\n<style>\n    .dataframe thead tr:only-child th {\n        text-align: right;\n    }\n\n    .dataframe thead th {\n        text-align: left;\n    }\n\n    .dataframe tbody tr th {\n        vertical-align: top;\n    }\n</style>\n<table border=\"1\" class=\"dataframe\">\n  <thead>\n    <tr style=\"text-align: right;\">\n      <th></th>\n      <th>ID</th>\n      <th>Age</th>\n      <th>Workclass</th>\n      <th>Education</th>\n      <th>Marital.Status</th>\n      <th>Occupation</th>\n      <th>Relationship</th>\n      <th>Race</th>\n      <th>Sex</th>\n      <th>Hours.Per.Week</th>\n      <th>Native.Country</th>\n    </tr>\n  </thead>\n  <tbody>\n    <tr>\n      <th>0</th>\n      <td>32562</td>\n      <td>25</td>\n      <td>2</td>\n      <td>3</td>\n      <td>2</td>\n      <td>3</td>\n      <td>3</td>\n      <td>0</td>\n      <td>1</td>\n      <td>40</td>\n      <td>1</td>\n    </tr>\n    <tr>\n      <th>1</th>\n      <td>32563</td>\n      <td>38</td>\n      <td>2</td>\n      <td>1</td>\n      <td>1</td>\n      <td>5</td>\n      <td>0</td>\n      <td>2</td>\n      <td>1</td>\n      <td>50</td>\n      <td>1</td>\n    </tr>\n    <tr>\n      <th>2</th>\n      <td>32564</td>\n      <td>28</td>\n      <td>0</td>\n      <td>3</td>\n      <td>1</td>\n      <td>5</td>\n      <td>0</td>\n      <td>2</td>\n      <td>1</td>\n      <td>40</td>\n      <td>1</td>\n    </tr>\n    <tr>\n      <th>3</th>\n      <td>32565</td>\n      <td>44</td>\n      <td>2</td>\n      <td>4</td>\n      <td>1</td>\n      <td>3</td>\n      <td>0</td>\n      <td>0</td>\n      <td>1</td>\n      <td>40</td>\n      <td>1</td>\n    </tr>\n    <tr>\n      <th>4</th>\n      <td>32566</td>\n      <td>18</td>\n      <td>2</td>\n      <td>4</td>\n      <td>2</td>\n      <td>6</td>\n      <td>3</td>\n      <td>2</td>\n      <td>0</td>\n      <td>30</td>\n      <td>1</td>\n    </tr>\n  </tbody>\n</table>\n</div>"
          },
          "metadata": {},
          "execution_count": 195
        }
      ],
      "cell_type": "code"
    },
    {
      "execution_count": 196,
      "metadata": {
        "_execution_state": "idle",
        "_cell_guid": "6fe6b66d-2726-493f-9f36-c053e323f127",
        "_uuid": "19fe4dd703c242cbe42d8fbdc88c4b5138f8b41d",
        "collapsed": false,
        "trusted": false
      },
      "source": "train.dtypes",
      "outputs": [
        {
          "output_type": "execute_result",
          "data": {
            "text/plain": "ID                int64\nAge               int64\nWorkclass         int64\nEducation         int64\nMarital.Status    int64\nOccupation        int64\nRelationship      int64\nRace              int64\nSex               int64\nHours.Per.Week    int64\nNative.Country    int64\nIncome.Group      int64\ndtype: object"
          },
          "metadata": {},
          "execution_count": 196
        }
      ],
      "cell_type": "code"
    },
    {
      "execution_count": null,
      "metadata": {
        "_execution_state": "idle",
        "_cell_guid": "89a0bcc3-b500-4013-b602-eed52c36e73b",
        "_uuid": "25ada158891e95d43e5323f38862244e4637bd35",
        "collapsed": false
      },
      "source": "## Step 2: Fitting the model",
      "outputs": [],
      "cell_type": "markdown"
    },
    {
      "execution_count": 197,
      "metadata": {
        "_execution_state": "idle",
        "_cell_guid": "b277e367-7235-46db-ac8d-fd77f4187dab",
        "_uuid": "1b9e0e4e7c8c4eaafc7f1ee9b173332b02c788fa",
        "collapsed": false,
        "trusted": false
      },
      "source": "from sklearn.tree import DecisionTreeClassifier",
      "outputs": [],
      "cell_type": "code"
    },
    {
      "execution_count": null,
      "metadata": {
        "_execution_state": "idle",
        "_cell_guid": "949d909d-670c-4550-8311-2b6864287dac",
        "_uuid": "a3357afafe5eb645173eb67c9fb2dd52a68517ff",
        "collapsed": false
      },
      "source": "Defining Predictor variables - these are all variables excluding the target variable Income.Group and ID",
      "outputs": [],
      "cell_type": "markdown"
    },
    {
      "execution_count": 198,
      "metadata": {
        "_execution_state": "idle",
        "_cell_guid": "4e2aa5fd-4181-4d65-ba62-a65edc7fa5f3",
        "_uuid": "19911c97782b9fd019b393aecd5c870085306e27",
        "collapsed": false,
        "trusted": false
      },
      "source": "dependent_var = 'Income.Group'\nindependent_vars = [x for x in train.columns if not x in ['ID', dependent_var]]\nprint (independent_vars)",
      "outputs": [
        {
          "output_type": "stream",
          "name": "stdout",
          "text": "['Age', 'Workclass', 'Education', 'Marital.Status', 'Occupation', 'Relationship', 'Race', 'Sex', 'Hours.Per.Week', 'Native.Country']\n"
        }
      ],
      "cell_type": "code"
    },
    {
      "execution_count": null,
      "metadata": {
        "_execution_state": "idle",
        "_cell_guid": "9e114cb0-ae65-4349-b486-123236a1263a",
        "_uuid": "12ce04bac3a25593e727de32a10511f2e5d96db5",
        "collapsed": false
      },
      "source": "Now that we have the predictors, lets run the model with the following benchmark parameters:\n\n 1. max_depth = 10\n 2. min_samples_leaf = 100 \n 3. max_features = 'sqrt'\n\n",
      "outputs": [],
      "cell_type": "markdown"
    },
    {
      "execution_count": 199,
      "metadata": {
        "_execution_state": "idle",
        "_cell_guid": "59775a4b-6d03-464c-8539-85b8be4eb329",
        "_uuid": "fb924c19e8330943bc0260739ca4e6b8c995e838",
        "collapsed": false,
        "trusted": false
      },
      "source": "# Initialize the algorithm\nmodel = DecisionTreeClassifier(max_depth = 10, min_samples_leaf =100, max_features = 'sqrt')\n# Fitting the model\nmodel.fit(train[independent_vars], train[dependent_var])",
      "outputs": [
        {
          "output_type": "execute_result",
          "data": {
            "text/plain": "DecisionTreeClassifier(class_weight=None, criterion='gini', max_depth=10,\n            max_features='sqrt', max_leaf_nodes=None,\n            min_impurity_decrease=0.0, min_impurity_split=None,\n            min_samples_leaf=100, min_samples_split=2,\n            min_weight_fraction_leaf=0.0, presort=False, random_state=None,\n            splitter='best')"
          },
          "metadata": {},
          "execution_count": 199
        }
      ],
      "cell_type": "code"
    },
    {
      "execution_count": null,
      "metadata": {
        "_execution_state": "idle",
        "_cell_guid": "c9191f15-76da-4630-aa0b-30f50d412447",
        "_uuid": "4f59eb946be21d2973d1824c3bb7ffbbbe49c6c7",
        "collapsed": false
      },
      "source": "## Step 3: making Predictions",
      "outputs": [],
      "cell_type": "markdown"
    },
    {
      "execution_count": 200,
      "metadata": {
        "_execution_state": "idle",
        "_cell_guid": "47376277-5977-4a7c-92cd-4eed59a8d0d5",
        "_uuid": "ec60cc613d3ff4dfea95228eddcbb4f773a12e79",
        "collapsed": false,
        "trusted": false
      },
      "source": "predictions_train = model.predict(train[independent_vars])\npredictions_test = model.predict(test[independent_vars])\nprint (predictions_test)",
      "outputs": [
        {
          "output_type": "stream",
          "name": "stdout",
          "text": "[0 0 0 ..., 1 0 1]\n"
        }
      ],
      "cell_type": "code"
    },
    {
      "execution_count": null,
      "metadata": {
        "_execution_state": "idle",
        "_cell_guid": "f77b8fb9-dae0-496a-9ca8-18ade0e22026",
        "_uuid": "5a8341679bc667ff896745ae9b23f93158d1c646",
        "collapsed": false
      },
      "source": "## Step 4: Analysing the results",
      "outputs": [],
      "cell_type": "markdown"
    },
    {
      "execution_count": 201,
      "metadata": {
        "_execution_state": "idle",
        "_cell_guid": "3a150fab-63a3-4dcf-bc30-aabbef7609f6",
        "_uuid": "9e362d83d1f383941fb618fc46d1af699c10542c",
        "collapsed": false,
        "trusted": false
      },
      "source": "from sklearn.metrics import accuracy_score\nacc_train = accuracy_score(train[dependent_var], predictions_train)\nprint ('Training Dataset Accuracy: ', acc_train)",
      "outputs": [
        {
          "output_type": "stream",
          "name": "stdout",
          "text": "Training Dataset Accuracy:  0.819170172906\n"
        }
      ],
      "cell_type": "code"
    },
    {
      "execution_count": 202,
      "metadata": {
        "_execution_state": "idle",
        "_cell_guid": "34108bd0-e03e-4ebe-be68-c89b04b8ae07",
        "_uuid": "0497608e77ffb0d6b2755323071bf1115e8cddcd",
        "collapsed": false,
        "trusted": false
      },
      "source": "d = {'ID':test['ID'].values, 'Income.Group': predictions_test}\nsubmission = pd.DataFrame(data = d)\nsubmission['Income.Group'] = submission['Income.Group'].replace({0 : '<=50K', 1 : '>=50K'})",
      "outputs": [],
      "cell_type": "code"
    },
    {
      "execution_count": 204,
      "metadata": {
        "_execution_state": "idle",
        "_cell_guid": "d15528cc-58ed-40ee-9d8d-671c8ecdddd4",
        "_uuid": "8451f5d33628f0aae2646c1edd1d9df7bb43c1a7",
        "collapsed": false,
        "trusted": false
      },
      "source": "# Save file to CSV\nsubmission.to_csv('submission.csv')",
      "outputs": [],
      "cell_type": "code"
    },
    {
      "metadata": {
        "collapsed": false,
        "_uuid": "acc8bc2ac87c546c917b25dd17dbd4ae2f890bad",
        "_execution_state": "idle",
        "trusted": false
      },
      "source": "from IPython.display import FileLink, FileLinks",
      "execution_count": 208,
      "cell_type": "code",
      "outputs": []
    },
    {
      "metadata": {
        "collapsed": false,
        "_uuid": "358ed1fc27acc8269a58dc94769a4c6a881ac80e",
        "_execution_state": "idle",
        "trusted": false
      },
      "source": "print(check_output([\"ls\"]).decode(\"utf8\"))",
      "execution_count": 211,
      "cell_type": "code",
      "outputs": [
        {
          "output_type": "stream",
          "name": "stdout",
          "text": "__notebook_source__.ipynb\nsubmission.csv\n\n"
        }
      ]
    },
    {
      "metadata": {
        "collapsed": false,
        "_uuid": "4d9ef7137a9304c84883fa84a76e1e40e173dd27",
        "_execution_state": "idle"
      },
      "source": "FileLinks('.')",
      "execution_count": 216,
      "cell_type": "code",
      "outputs": [
        {
          "output_type": "execute_result",
          "data": {
            "text/plain": "./\n  __notebook_source__.ipynb\n  submission.csv",
            "text/html": "./<br>\n&nbsp;&nbsp;<a href='./__notebook_source__.ipynb' target='_blank'>__notebook_source__.ipynb</a><br>\n&nbsp;&nbsp;<a href='./submission.csv' target='_blank'>submission.csv</a><br>"
          },
          "metadata": {},
          "execution_count": 216
        }
      ]
    },
    {
      "metadata": {
        "collapsed": false,
        "_uuid": "4429e40b18fbac3dc1a48bbc6dfbc592b8196437",
        "_execution_state": "idle"
      },
      "source": "",
      "execution_count": null,
      "cell_type": "code",
      "outputs": []
    }
  ],
  "metadata": {
    "language_info": {
      "name": "python",
      "version": "3.6.1",
      "mimetype": "text/x-python",
      "codemirror_mode": {
        "name": "ipython",
        "version": 3
      },
      "pygments_lexer": "ipython3",
      "nbconvert_exporter": "python",
      "file_extension": ".py"
    },
    "kernelspec": {
      "display_name": "Python 3",
      "language": "python",
      "name": "python3"
    }
  },
  "nbformat": 4
}